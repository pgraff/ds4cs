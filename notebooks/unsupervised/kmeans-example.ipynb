{
 "cells": [
  {
   "cell_type": "markdown",
   "metadata": {},
   "source": [
    "# A Taste of Machine Learning\n",
    "\n",
    "## Introduction\n",
    "\n",
    "One of the promises of using Notebooks is that we can take advantage of Python's excellent machine learning capabilities.\n",
    "\n",
    "If you are already a data scientist, this notebook is going to be too trivial for you. We wrote this notebook primarily to expose a data analyst or engineer to Python's machine learning libraries' power.\n",
    "\n",
    "Also, we'll pick one of the 100's of well-known machine learning algorithms. We decided to expose this algorithm because it is relatively easy to understand."
   ]
  },
  {
   "cell_type": "markdown",
   "metadata": {},
   "source": [
    "## K-Means Clustering"
   ]
  },
  {
   "cell_type": "markdown",
   "metadata": {},
   "source": [
    "K-means clustering is an algorithm that is used to organize data are related based on some criteria. It aims to take a set of observations (or data points) and organize them into clusters (the number of clusters is the `k` in `k-means`).\n",
    "\n",
    "We'll avoid the mathematical terms here, but you can find some more in-depth discussions at Wikipedia or Wolfram if you are mathematically inclined:\n",
    "\n",
    "* https://en.wikipedia.org/wiki/K-means_clustering\n",
    "* https://mathworld.wolfram.com/K-MeansClusteringAlgorithm.html"
   ]
  },
  {
   "cell_type": "markdown",
   "metadata": {},
   "source": [
    "### Goals\n",
    "\n",
    "In this story, we will imagine that our boss is asking us if we can figure out where in the US it would be best to place a distribution center for merchandised based on the top us customers. \n",
    "\n",
    "We have the top 500 customers in a data file with their addresses. \n",
    "Our boss wants us to suggest four geographic locations."
   ]
  },
  {
   "cell_type": "markdown",
   "metadata": {},
   "source": [
    "### The Libraries\n",
    "\n",
    "Before we start, let's introduce the libraries we will use in this notebook:"
   ]
  },
  {
   "cell_type": "code",
   "execution_count": null,
   "metadata": {},
   "outputs": [],
   "source": [
    "import pandas as pd\n",
    "import numpy as np\n",
    "import matplotlib.pyplot as plt\n",
    "from sklearn.cluster import KMeans\n",
    "%matplotlib inline"
   ]
  },
  {
   "cell_type": "markdown",
   "metadata": {},
   "source": [
    "We already discussed `pandas`, `matplotlib`, and `numpy` in other notebooks, so let's focus on the new kid, `sklearn`.\n",
    "\n",
    "`sclearn`, or more complete, `scikit-learn` is a machine learning library written in Python. \n",
    "\n",
    "It is a simple and efficient tool that implements many of the popular machine learning algorithms. \n",
    "It is built on `numpy` and `matplotlib`, which we have used already. \n",
    "It also depends on a scientific library called `scipy`.\n",
    "\n",
    "We'll only import the `KMeans` algorithm. "
   ]
  },
  {
   "cell_type": "markdown",
   "metadata": {},
   "source": [
    "### Evaluate the Dataset of Customers\n",
    "\n",
    "Let's first look at the dataset our boss gave us. The dataset is in the file `/data/us-500.csv`."
   ]
  },
  {
   "cell_type": "code",
   "execution_count": null,
   "metadata": {},
   "outputs": [],
   "source": [
    "%%!\n",
    "head -c2b /data/us-500.csv"
   ]
  },
  {
   "cell_type": "markdown",
   "metadata": {},
   "source": [
    "Looking at the first five records, we see that we have an address. \n",
    "\n",
    "We have a few options. \n",
    "1. We could use some geographic lookup API to find GPS\n",
    "2. We could find some data file that maps zip code to geocoordinates"
   ]
  },
  {
   "cell_type": "markdown",
   "metadata": {},
   "source": [
    "### Explore Geocoordinates from Zip Codes\n",
    "\n",
    "We decide to use a simplification of zip codes. \n",
    "We'll use the zip to lookup the map coordinates.\n",
    "\n",
    "We find an open-source dataset that has mapped the zip to longitude and latitude. \n",
    "The data is located in the file `/data/zip_lat_long.csv`.\n"
   ]
  },
  {
   "cell_type": "markdown",
   "metadata": {},
   "source": [
    "### Read the Data Using Panda\n",
    "\n",
    "Let's read the data in using panda instead.\n",
    "\n",
    "#### Reading the People\n",
    "First, let's read the people."
   ]
  },
  {
   "cell_type": "code",
   "execution_count": null,
   "metadata": {},
   "outputs": [],
   "source": [
    "people = pd.read_csv('/data/us-500.csv')\n",
    "people.head()"
   ]
  },
  {
   "cell_type": "markdown",
   "metadata": {},
   "source": [
    "We realize that we don't need all the columns. \n",
    "The only column we really need is the `zip code`.\n",
    "Let's simply read in that instead"
   ]
  },
  {
   "cell_type": "code",
   "execution_count": null,
   "metadata": {},
   "outputs": [],
   "source": [
    "us = pd.read_csv('/data/zip_lat_long.csv')\n",
    "us.head()"
   ]
  },
  {
   "cell_type": "markdown",
   "metadata": {},
   "source": [
    "Let's verify the types to make sure we have the corret types..."
   ]
  },
  {
   "cell_type": "code",
   "execution_count": null,
   "metadata": {},
   "outputs": [],
   "source": [
    "us.dtypes"
   ]
  },
  {
   "cell_type": "markdown",
   "metadata": {},
   "source": [
    "We see that we have what we want:\n",
    "\n",
    "* Zip\n",
    "* Latitude\n",
    "* Longitude\n",
    "\n",
    "And for performance, it may be good to use Zip as the index as we know it is unique. \n",
    "The `Zip` field is also what we want to use as a lookup.\n",
    "\n",
    "Pandas always create a unique index and we can use the ZIP as the index, so let's change it a bit"
   ]
  },
  {
   "cell_type": "code",
   "execution_count": null,
   "metadata": {},
   "outputs": [],
   "source": [
    "us = pd.read_csv('/data/zip_lat_long.csv', index_col='zip',usecols=['zip', 'lat', 'long'])\n",
    "us.head()"
   ]
  },
  {
   "cell_type": "code",
   "execution_count": null,
   "metadata": {},
   "outputs": [],
   "source": [
    "people = pd.read_csv('/data/us-500.csv', usecols=['zip']).astype({'zip': 'int64'})\n",
    "people.head()"
   ]
  },
  {
   "cell_type": "markdown",
   "metadata": {},
   "source": [
    "### Merge the Datasets\n",
    "\n",
    "We have two dataframes, one with the zip code of all the top 500 customers, the second with the geocoordinates of each zip.\n",
    "\n",
    "Ideally, we want one dataframe that has the zip and geocoordinates together:"
   ]
  },
  {
   "cell_type": "code",
   "execution_count": null,
   "metadata": {},
   "outputs": [],
   "source": [
    "df = people.join(us, on='zip')\n",
    "df.head()\n",
    "df[df['long'].isna()]"
   ]
  },
  {
   "cell_type": "markdown",
   "metadata": {},
   "source": [
    "That is almost it.\n",
    "We don't need the zip codes now that we have found the geocoordinates, so let's drop the zip from the dataframe. \n",
    "\n",
    "We'll simply call this dataset `X`:"
   ]
  },
  {
   "cell_type": "code",
   "execution_count": null,
   "metadata": {},
   "outputs": [],
   "source": [
    "X = df.loc[:,['long', 'lat']]\n",
    "X.head()"
   ]
  },
  {
   "cell_type": "markdown",
   "metadata": {},
   "source": [
    "Let's take a look at the data in a scatter diagram:"
   ]
  },
  {
   "cell_type": "code",
   "execution_count": null,
   "metadata": {},
   "outputs": [],
   "source": [
    "X.plot.scatter(x='long', y='lat')"
   ]
  },
  {
   "cell_type": "markdown",
   "metadata": {},
   "source": [
    "We can start to see the shape of the USA in the points.\n",
    "\n",
    "There are some outliers that we should probably remove. \n",
    "We are only interested in the contiguous states, so we should eliminate observation in Alaska and Hawaii. \n",
    "We find those to the very left of the plot. \n",
    "It looks like a suitable method to eliminate any observations whose longitude is less than -130."
   ]
  },
  {
   "cell_type": "code",
   "execution_count": null,
   "metadata": {},
   "outputs": [],
   "source": [
    "X.drop(X[X['long'] < -130].index, inplace=True)\n",
    "X.plot.scatter(x='long', y='lat');"
   ]
  },
  {
   "cell_type": "markdown",
   "metadata": {},
   "source": [
    "## K-Means\n",
    "\n",
    "Let's think about the problem for a second. \n",
    "\n",
    "We want to know to minimize the distance from the data center to the customers.\n",
    "We know the customer's location, so we have to experiment with where we can place the datacenters so that the average distance is as small as possible.\n",
    "\n",
    "These kinds of problems are what we call NP-complete, meaning, to exhaust all possibilities to find the optimal solution is impractical.\n",
    "\n",
    "Mathematicians have found ways to approximate the best solutions. One such method is called k-means. \n",
    "K-means is a strategy where we run an algorithm to find an approximation of the best way to cluster some data.\n",
    "\n",
    "The strategy works like this:\n",
    "\n",
    "1. Collect the observations (the customers with their addresses in our case)\n",
    "2. Featurize the observations. \n",
    "   That is, figure out what's of interest in the dataset and convert them into vectors. \n",
    "   For our dataset, the relevant features are the physical address to create a vector using longitude and latitude.\n",
    "3. Decide the number of clusters we're looking for, called k. \n",
    "   In our case, k would be 4 since we're looking for 4 distribution centers.\n",
    "4. Pick k random values in the dataset and assume this to be the correct clustering points, called centroids.\n",
    "5. Assign each of the observations to the closest centroid using some measurement of distance. \n",
    "   In our case, we can use a so-called euclidian space, that is, we're in a 2-dimensional space where the distance can be measured as an absolute distance using simple euclidian distance. \n",
    "   Think of it as a straight line between two map-locations. \n",
    "   So, in other words, the distance as the crow flies between the centroid and the customer address.\n",
    "6. When we have assigned all the observations to a centroid, we recalculate the centroid based to minimize the cluster's distance.\n",
    "7. Iterate by reassigning the observations to the new centroid.\n",
    "\n",
    "The animation below shows an example where we have a set of points drawn in a two-dimensional space, and we're trying to find the best 3 cluster points.\n",
    "\n",
    "<img src='https://upload.wikimedia.org/wikipedia/commons/e/ea/K-means_convergence.gif'/>"
   ]
  },
  {
   "cell_type": "markdown",
   "metadata": {},
   "source": [
    "## Let's Do It\n",
    "\n",
    "Enough theory, let's do it.\n",
    "\n",
    "### Create the Model\n",
    "\n",
    "First, we need to create the k-means model. \n",
    "We are interested in finding 4 locations for our boss, so for us, the number of clusters we are looking for must be set to 4"
   ]
  },
  {
   "cell_type": "code",
   "execution_count": null,
   "metadata": {},
   "outputs": [],
   "source": [
    "model = KMeans(n_clusters=4)"
   ]
  },
  {
   "cell_type": "markdown",
   "metadata": {},
   "source": [
    "### Fit\n",
    "\n",
    "Next we need train the model.\n",
    "This is done with a method called `fit`."
   ]
  },
  {
   "cell_type": "code",
   "execution_count": null,
   "metadata": {},
   "outputs": [],
   "source": [
    "kmeans = model.fit(X)"
   ]
  },
  {
   "cell_type": "markdown",
   "metadata": {},
   "source": [
    "### What Are the Clusters?\n",
    "\n",
    "The model now has calculated the best clusters. \n",
    "We can read the result by reading the property called `cluster_centers_`:"
   ]
  },
  {
   "cell_type": "code",
   "execution_count": null,
   "metadata": {},
   "outputs": [],
   "source": [
    "kmeans.cluster_centers_"
   ]
  },
  {
   "cell_type": "markdown",
   "metadata": {},
   "source": [
    "We have an array with the geocoordinates. Let's make sure that the longitude and latitude are within reasonable ranges. \n",
    "They need to be within the range of the original input!"
   ]
  },
  {
   "cell_type": "code",
   "execution_count": null,
   "metadata": {},
   "outputs": [],
   "source": [
    "print('Input Longitude: [(' + str(X['long'].min()) + ')-(' + str(X['long'].max()) + ')]')\n",
    "print('Input Latitude: [(' + str(X['lat'].min()) + ')-(' + str(X['lat'].max()) + ')]')\n",
    "print('Cluster Longitude: [(' + str(kmeans.cluster_centers_[0].min()) + ')-(' + str(kmeans.cluster_centers_[0].max()) + ')]')\n",
    "print('Cluster Latitude: [(' + str(kmeans.cluster_centers_[1].min()) + ')-(' + str(kmeans.cluster_centers_[1].max()) + ')]')\n",
    "print(kmeans.cluster_centers_[0].min())"
   ]
  },
  {
   "cell_type": "markdown",
   "metadata": {},
   "source": [
    "## Visualize the Data\n",
    "\n",
    "### First Attempt\n",
    "\n",
    "Let's visualize the data by first plotting the customers and then plotting the centroids"
   ]
  },
  {
   "cell_type": "code",
   "execution_count": null,
   "metadata": {},
   "outputs": [],
   "source": [
    "plt.scatter(X['long'], X['lat'])\n",
    "plt.scatter(kmeans.cluster_centers_[:, 0], kmeans.cluster_centers_[:, 1])\n",
    "plt.show()"
   ]
  },
  {
   "cell_type": "markdown",
   "metadata": {},
   "source": [
    "Ouch... that is not very easy to read.\n",
    "That can easily be fixed with a little styling (we'll not go through the options in detail here as we have another notebook where we talk about `matplotlib`).\n",
    "\n",
    "Let's make the customer locations gray and smaller and use an `X` to mark the centroids."
   ]
  },
  {
   "cell_type": "code",
   "execution_count": null,
   "metadata": {},
   "outputs": [],
   "source": [
    "plt.scatter(X['long'], X['lat'], color='gray', s=3)\n",
    "plt.scatter(kmeans.cluster_centers_[:, 0], kmeans.cluster_centers_[:, 1], color='red', s=200, marker='X')\n",
    "plt.show()"
   ]
  },
  {
   "cell_type": "markdown",
   "metadata": {},
   "source": [
    "## Another Trick\n",
    "\n",
    "Google Maps allow us to lookup locations using geocoordinates.\n",
    "\n",
    "We can use the format:\n",
    "\n",
    "```\n",
    "http://maps.google.com/?q=<lat>,<lng>\n",
    "```\n",
    "\n",
    "So... Let's try to render that using Python as well:"
   ]
  },
  {
   "cell_type": "code",
   "execution_count": null,
   "metadata": {},
   "outputs": [],
   "source": [
    "for c in kmeans.cluster_centers_:\n",
    "    print(\"http://maps.google.com/?q=\" + str(c[1]) + \",\" + str(c[0]))"
   ]
  },
  {
   "cell_type": "markdown",
   "metadata": {},
   "source": [
    "For me, it looks like the recommendations we'll give are:\n",
    "\n",
    "1. North West of Oklahoma City, OK\n",
    "2. West of Newark, NJ\n",
    "3. The third point is in a desolate place. The closest city seems to be Fresno, CA\n",
    "4. The fourth point is also in the middle of nowhere. The best recommendation seems to be somewhere in the triangle formed by Knoxville (TN), Nashville (TN), and Loisville (KY)\n",
    "\n"
   ]
  },
  {
   "cell_type": "markdown",
   "metadata": {},
   "source": [
    "## Reflection\n",
    "\n",
    "In this notebook, we've exposed you to some machine learning. \n",
    "We used an algorithm called k-means clustering. \n",
    "\n",
    "It is one of the easier to understand algorithms, but it shows that even the simpler algorithms have teeth.\n",
    "It is also worth mentioning that we've only scratched the surface of what the SciKit Learning library can do. \n",
    "We've also only scratched the surface of what can be done with clustering and k-means.\n",
    "\n",
    "For example, in k-means, there is a complete theory around various aspects of the algorithm.\n",
    "For example:\n",
    "\n",
    "* **How do you pick the initial centroids?** \n",
    "  SciKit Learn, by default, uses an algorithm called `KMeans++`, but it supports other methods as well.\n",
    "  The selection of algorithm can make the model work differently (mostly, it is a performance issue).\n",
    "* **How do you measure distance?** \n",
    "  We used the default method which is to use a sum of square distances in a euclidian space, but there are all ways to measure distance as well. \n",
    "* **What algorithm to use?**\n",
    "  SciKit Learn uses Elkan’s algorithm, but that is also configurable.\n",
    "* **How do I choose `k`?**\n",
    "  In our case, we knew that `k` should be 4. \n",
    "  In other cases, we may not know what `k` should be.\n",
    "  There are at least 10 known methods to resolve `k`.\n",
    "  Here is a link to a good article showing 3 of the methods (https://www.datanovia.com/en/lessons/determining-the-optimal-number-of-clusters-3-must-know-methods/).\n",
    "\n",
    "Add to that, SciKit Learn provides a number of clustering algorithms:\n",
    "\n",
    "* **Affinity propagation**. \n",
    "  Works really well with smaller number of samples and with many (even uneven) clusters. \n",
    "  Also good for non-flat geometry.\n",
    "* **Mean-shift**\n",
    "  The use cases are similar to that of the `Affinity Propagation`, but usually used where there are fewer clusters.\n",
    "* **Spectral clustering**.\n",
    "  Handles larger samples than `Mean-Shift` and `Affinity Propagation` but handles larger sample sets. \n",
    "  Typically used with feweer clusters but works well for non-flat geometries.\n",
    "* **Ward hierarchical clustering**.\n",
    "  Can handle large sample sets and many clusters and allows you to specify connectivity constraints.\n",
    "* **Agglomerative clustering**.\n",
    "  Handles large number of samples and clusters.\n",
    "  Can use non-euclidean distances as well as connectivity constraints.\n",
    "* **DBSCAN**.\n",
    "  Can hadle very large sample sets.\n",
    "  Supports non-flat geometry and uneven cluster sizes.\n",
    "* **OPTICS**\n",
    "  Supports very large sample sets and large clusters.\n",
    "  Supports non-flat geometry, uneven cluster sizes, and variable cluster density.\n",
    "* **Gaussian mixtures**.\n",
    "  Not very scalable. \n",
    "  Good for density estimations on flat geometry. \n",
    "  Uses Mahalanobis distances to  centers.\n",
    "* **Birch**.\n",
    "  Supports large clusters and sample sets.\n",
    "  Limited to euclidean distances.\n",
    "\n",
    "I'm not trying to scare anyone away from machine learning.\n",
    "My point only, to become a data scientist requires a commitment to relatively abstract concepts. \n",
    "\n",
    "The good news is that libraries like SciKit Learn are making machine learning accessible to everyone.\n",
    "One of their goals is to allow you to use some of the algorithms without completely understanding the underlying theory."
   ]
  }
 ],
 "metadata": {
  "kernelspec": {
   "display_name": "Python 3 (ipykernel)",
   "language": "python",
   "name": "python3"
  },
  "language_info": {
   "codemirror_mode": {
    "name": "ipython",
    "version": 3
   },
   "file_extension": ".py",
   "mimetype": "text/x-python",
   "name": "python",
   "nbconvert_exporter": "python",
   "pygments_lexer": "ipython3",
   "version": "3.10.8"
  }
 },
 "nbformat": 4,
 "nbformat_minor": 4
}
