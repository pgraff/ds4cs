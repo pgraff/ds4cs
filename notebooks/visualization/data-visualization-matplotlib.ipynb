{
 "cells": [
  {
   "cell_type": "markdown",
   "metadata": {},
   "source": [
    "# Matplotlib\n",
    "\n",
    "## Introduction\n",
    "\n",
    "In this notebook, we'll explore the Mathplotlib and the various visualizations available.\n",
    "\n",
    "There is a fair bit of Python code used to render the charts.\n",
    "If Python scares you, we suggest you don't go through this book (or simply run the cells and ignore the code)."
   ]
  },
  {
   "cell_type": "markdown",
   "metadata": {
    "execution": {
     "iopub.execute_input": "2020-09-03T01:04:07.593297Z",
     "iopub.status.busy": "2020-09-03T01:04:07.592827Z",
     "iopub.status.idle": "2020-09-03T01:04:07.636410Z",
     "shell.execute_reply": "2020-09-03T01:04:07.634864Z",
     "shell.execute_reply.started": "2020-09-03T01:04:07.593238Z"
    }
   },
   "source": [
    "## Imports\n",
    "\n",
    "We'll start by importing the libraries we'll use. "
   ]
  },
  {
   "cell_type": "code",
   "execution_count": null,
   "metadata": {},
   "outputs": [],
   "source": [
    "import matplotlib.pyplot as plt\n",
    "import numpy as np\n",
    "import pandas as pd\n",
    "%matplotlib inline"
   ]
  },
  {
   "cell_type": "markdown",
   "metadata": {
    "execution": {
     "iopub.execute_input": "2020-09-03T01:11:24.408724Z",
     "iopub.status.busy": "2020-09-03T01:11:24.408306Z",
     "iopub.status.idle": "2020-09-03T01:11:24.457253Z",
     "shell.execute_reply": "2020-09-03T01:11:24.455787Z",
     "shell.execute_reply.started": "2020-09-03T01:11:24.408672Z"
    }
   },
   "source": [
    "## Some Simple (and Not So Simple) Stuff\n",
    "\n",
    "### Introduction\n",
    "\n",
    "Let's start by exploring a simple line plot.\n",
    "\n",
    "### The Data\n",
    "\n",
    "First, let's create some data.\n",
    "We'll use the `numpy` library (it is super fast and convenient). \n",
    "\n",
    "The code below creates a simple array of data by generating 100 random integers between 1 and 100 (and then we print out the type of the data object and the data so that you can see what it is):"
   ]
  },
  {
   "cell_type": "code",
   "execution_count": null,
   "metadata": {},
   "outputs": [],
   "source": [
    "data = np.random.randint(1,100,100)\n",
    "print(type(data))\n",
    "print(data)"
   ]
  },
  {
   "cell_type": "markdown",
   "metadata": {},
   "source": [
    "### A Trick to Get Help\n",
    "\n",
    "By the way, we'll use numpy quite frequently (and so will you when you get excited about Python). \n",
    "If you don't already know, let's take a look at a trick to learn some of these libraries.\n",
    "\n",
    "For any Python function, you can prepend the function with a questionmark (`?`) to get the documentation. \n",
    "For example, say we wanted to see what the `np.random.randomint` function does, we could simply run this:"
   ]
  },
  {
   "cell_type": "code",
   "execution_count": null,
   "metadata": {},
   "outputs": [],
   "source": [
    "?np.random.randint"
   ]
  },
  {
   "cell_type": "markdown",
   "metadata": {},
   "source": [
    "### Creating a Simple Plot\n",
    "\n",
    "There are many ways to create plots. \n",
    "In most of the other notebooks we've seen, we started with some data structure (e.g., pandas), but this time, we'll focus mostly on the plotting library, so be a bit more primitive.\n",
    "\n",
    "\n",
    "We'll start by creating a plot (or an instance of `AxisPlot`). \n",
    "The plotting library has method called `subplots` that we can use.\n",
    "This function returns a tuple, so we'll do a tuple-assignment:"
   ]
  },
  {
   "cell_type": "code",
   "execution_count": null,
   "metadata": {},
   "outputs": [],
   "source": [
    "fig, ax = plt.subplots()"
   ]
  },
  {
   "cell_type": "markdown",
   "metadata": {},
   "source": [
    "That created a simple graphic with no content.\n",
    "Obviously that is not our end goal, so let's continue decorating the simple graphic with some labels and header:"
   ]
  },
  {
   "cell_type": "code",
   "execution_count": null,
   "metadata": {},
   "outputs": [],
   "source": [
    "ax.set_title(\"Some Numbers\")\n",
    "ax.set_ylabel(\"value\")\n",
    "ax.set_xlabel(\"array index\")\n",
    "fig"
   ]
  },
  {
   "cell_type": "markdown",
   "metadata": {
    "execution": {
     "iopub.execute_input": "2020-09-03T02:05:21.734965Z",
     "iopub.status.busy": "2020-09-03T02:05:21.734570Z",
     "iopub.status.idle": "2020-09-03T02:05:21.779912Z",
     "shell.execute_reply": "2020-09-03T02:05:21.778107Z",
     "shell.execute_reply.started": "2020-09-03T02:05:21.734917Z"
    }
   },
   "source": [
    "Nice... \n",
    "We've put the labels and title in, what about some numbers?"
   ]
  },
  {
   "cell_type": "code",
   "execution_count": null,
   "metadata": {},
   "outputs": [],
   "source": [
    "ax.plot(data, label='random')\n",
    "fig"
   ]
  },
  {
   "cell_type": "markdown",
   "metadata": {},
   "source": [
    "We now have plotted the numbers.\n",
    "What if we wanted some more graphs to perhaps compare data.\n",
    "\n",
    "Let me create a few things (I've explained the code inline as comments below):"
   ]
  },
  {
   "cell_type": "code",
   "execution_count": null,
   "metadata": {},
   "outputs": [],
   "source": [
    "x = np.linspace(0,100,100)            # Create a linear space using numpy (0,1,2...)\n",
    "ax.plot(x, label='increasing')        # Plot the linear space\n",
    "ax.plot(x, 100-x, label='decreasing') # Plot a formula based on the linear space (100-x)\n",
    "ax.plot(x, x-x+50, label='constant')  # Plot another formula yielding 50 (constant)\n",
    "ax.legend()                           # Let's add legends to make the graph more readable\n",
    "fig"
   ]
  },
  {
   "cell_type": "markdown",
   "metadata": {},
   "source": [
    "\n",
    "## General Plotter\n",
    "\n",
    "### A Heart\n",
    "\n",
    "You can use `matplotlib` to render any shape... \n",
    "In fact, you can use it as an old fashion plotter.\n",
    "\n",
    "Let's start by creating a heart:"
   ]
  },
  {
   "cell_type": "code",
   "execution_count": null,
   "metadata": {},
   "outputs": [],
   "source": [
    "t = np.arange(0,2*np.pi, 0.1) \n",
    "x = 16*np.sin(t)**3 \n",
    "y = 13*np.cos(t)-5*np.cos(2*t)-2*np.cos(3*t)-np.cos(4*t) \n",
    "plt.plot(x,y) \n",
    "plt.show() "
   ]
  },
  {
   "cell_type": "markdown",
   "metadata": {
    "execution": {
     "iopub.execute_input": "2020-09-03T01:43:31.198943Z",
     "iopub.status.busy": "2020-09-03T01:43:31.198447Z",
     "iopub.status.idle": "2020-09-03T01:43:31.237685Z",
     "shell.execute_reply": "2020-09-03T01:43:31.236424Z",
     "shell.execute_reply.started": "2020-09-03T01:43:31.198886Z"
    }
   },
   "source": [
    "### A Spiral\n",
    "\n",
    "Or perhaps a spiral (Source: matplotlib.org)"
   ]
  },
  {
   "cell_type": "code",
   "execution_count": null,
   "metadata": {},
   "outputs": [],
   "source": [
    "theta = np.arange(0, 8*np.pi, 0.1)\n",
    "a = 1\n",
    "b = .5\n",
    "\n",
    "for dt in np.arange(0, 2*np.pi, np.pi/2.0):\n",
    "\n",
    "    x = a*np.cos(theta + dt)*np.exp(b*theta)\n",
    "    y = a*np.sin(theta + dt)*np.exp(b*theta)\n",
    "\n",
    "    dt = dt + np.pi/4.0\n",
    "\n",
    "    x2 = a*np.cos(theta + dt)*np.exp(b*theta)\n",
    "    y2 = a*np.sin(theta + dt)*np.exp(b*theta)\n",
    "\n",
    "    xf = np.concatenate((x, x2[::-1]))\n",
    "    yf = np.concatenate((y, y2[::-1]))\n",
    "\n",
    "    p1 = plt.fill(xf, yf)\n",
    "\n",
    "plt.show()"
   ]
  },
  {
   "cell_type": "markdown",
   "metadata": {
    "execution": {
     "iopub.execute_input": "2020-09-03T01:39:57.920328Z",
     "iopub.status.busy": "2020-09-03T01:39:57.919874Z",
     "iopub.status.idle": "2020-09-03T01:39:58.137961Z",
     "shell.execute_reply": "2020-09-03T01:39:58.136806Z",
     "shell.execute_reply.started": "2020-09-03T01:39:57.920274Z"
    }
   },
   "source": []
  },
  {
   "cell_type": "markdown",
   "metadata": {},
   "source": [
    "### Let's Get Back to Business\n",
    "\n",
    "That was fun, but we don't typically create hearts or spirals at PayPal, but I think it is important to see that the matplotlib is a generic drawing tool that pretty much allows you to draw anything!\n",
    "\n",
    "However, we should get back to more typical PayPal tasks. \n",
    "What is different going forward is that we would typically start with a `DataFrame`. \n",
    "\n",
    "For those of you that already are fluent in `matplotlib`, you may want to take advantage of a more low-level manipulation of the plots, but for most business cases, we are better off starting with a `DataFrame`."
   ]
  },
  {
   "cell_type": "markdown",
   "metadata": {},
   "source": [
    "## Some More Data\n",
    "\n",
    "We will start by loading some data.\n",
    "We'll use a dataset that we've used before, namely the 5000 sales transactions.\n",
    "\n",
    "Let's start by loading in the data using a magic.\n",
    "We'll convert the result into a dataframe (and print the first 5 so that we can remember what was in the dataset):"
   ]
  },
  {
   "cell_type": "code",
   "execution_count": null,
   "metadata": {},
   "outputs": [],
   "source": [
    "sales = pd.read_csv('/data/5000-sales-records.csv')\n",
    "sales.head()"
   ]
  },
  {
   "cell_type": "markdown",
   "metadata": {},
   "source": [
    "### A Simple Pie Chart\n",
    "\n",
    "Let's start by displaying a simple pie chart with the profits by region.\n",
    "\n",
    "We'll convert the data into a simple pivot table where we aggregate the profit by region:"
   ]
  },
  {
   "cell_type": "code",
   "execution_count": null,
   "metadata": {},
   "outputs": [],
   "source": [
    "profit_by_region = sales[[\"Region\", \"Total Profit\"]] \\\n",
    "    .pivot_table(index=\"Region\", aggfunc=np.sum)"
   ]
  },
  {
   "cell_type": "markdown",
   "metadata": {},
   "source": [
    "Creating a pie chart is simple.\n",
    "We can access the `plot` property on the `DataFrame` and create a pie chart:"
   ]
  },
  {
   "cell_type": "code",
   "execution_count": null,
   "metadata": {},
   "outputs": [],
   "source": [
    "profit_by_region.plot.pie(y=\"Total Profit\");"
   ]
  },
  {
   "cell_type": "markdown",
   "metadata": {},
   "source": [
    "That is what we want, but what's up with the legends?\n",
    "\n",
    "Often, as a data analyst, it is easy to get to a simple chart, but to make it look good may take a little research.\n",
    "\n",
    "In this case, we can manipulate the legend's placement using a few parameters to the `legend()` function.\n",
    "\n",
    "How do we to that? Well, if you haven't done it for some time, you probably have to look it up.\n",
    "You can find structured documentation for matplotlib here (https://matplotlib.org/), but a simple google search will probably be the fastest path to success in almost all cases.\n",
    "\n",
    "Here is what I had to do to make it look a little nicer:"
   ]
  },
  {
   "cell_type": "code",
   "execution_count": null,
   "metadata": {},
   "outputs": [],
   "source": [
    "profit_by_region \\\n",
    "    .plot.pie(y=\"Total Profit\") \\\n",
    "    .legend(loc=\"upper left\", bbox_to_anchor=(1,1) );"
   ]
  },
  {
   "cell_type": "markdown",
   "metadata": {},
   "source": [
    "Truth is, with the label on the slices, we probably don't need the legends at all:"
   ]
  },
  {
   "cell_type": "code",
   "execution_count": null,
   "metadata": {},
   "outputs": [],
   "source": [
    "l = profit_by_region.plot.pie(y=\"Total Profit\").legend()\n",
    "l.remove()"
   ]
  },
  {
   "cell_type": "markdown",
   "metadata": {},
   "source": [
    "### A Simple Bar Chart\n",
    "\n",
    "Let's render the data in a bar chart as well and see what we have to do to make that pretty.\n",
    "\n",
    "Let's start by using the defaults:"
   ]
  },
  {
   "cell_type": "code",
   "execution_count": null,
   "metadata": {},
   "outputs": [],
   "source": [
    "profit_by_region.plot.bar();"
   ]
  },
  {
   "cell_type": "markdown",
   "metadata": {},
   "source": [
    "OK, that is not too bad, perhaps we want to display the numbers on the right in millions of USD and remove the legend.\n",
    "\n",
    "Removing the legend is similar to the pie chart, so let's start there. We did that already, so let's see if it works on a bar chart as well!"
   ]
  },
  {
   "cell_type": "code",
   "execution_count": null,
   "metadata": {},
   "outputs": [],
   "source": [
    "l = profit_by_region.plot.bar().legend()\n",
    "l.remove()"
   ]
  },
  {
   "cell_type": "markdown",
   "metadata": {},
   "source": [
    "Great, good to see that the library is consistent.\n",
    "\n",
    "Now, how do we change the y-axis to display Total Profit in million USD?\n",
    "The formatting of the values of the y-axis is a bit more tricky and requires some Python coding.\n",
    "\n",
    "With no further due, let me do it and comment on the code with what I  wrote."
   ]
  },
  {
   "cell_type": "code",
   "execution_count": null,
   "metadata": {},
   "outputs": [],
   "source": [
    "# First, let's define a function that does the formatting.\n",
    "# This function may look strange, but the matplotlib has a formatter function\n",
    "# for this purpose that we can replace. This function takes two parameters\n",
    "def format_mill_usd(x, pos):\n",
    "    'where x is the value and pos is the tick position'\n",
    "    return '$%1.fM' % (x * 1e-6)\n",
    "\n",
    "# Matplotlib also deifnes a wrapper for the formatter\n",
    "from matplotlib.ticker import FuncFormatter\n",
    "\n",
    "# Let's wrap the format_mill_usd function\n",
    "formatter = FuncFormatter(format_mill_usd)\n",
    "\n",
    "bar = profit_by_region.plot.bar()               # create the bar chart\n",
    "bar.get_yaxis().set_major_formatter(formatter)  # set the formatter for the y axis\n",
    "bar.get_legend().remove()                       # remove the legend\n",
    "bar.set_ylabel(\"Profit in USD\")"
   ]
  },
  {
   "cell_type": "markdown",
   "metadata": {},
   "source": [
    "As I look at the graph above, the very long values on the x-axis looks a bit off.\n",
    "\n",
    "Perhaps as a final touch, we'll shorten the labels a bit:"
   ]
  },
  {
   "cell_type": "code",
   "execution_count": null,
   "metadata": {},
   "outputs": [],
   "source": [
    "bar.set_xticklabels([\"Asia\", \"Australia\", \"Central America\", \"Europe\", \"Middle East\", \"North America\", \"Africa\"])\n",
    "bar.get_figure()"
   ]
  },
  {
   "cell_type": "markdown",
   "metadata": {
    "execution": {
     "iopub.execute_input": "2020-09-03T03:28:41.482369Z",
     "iopub.status.busy": "2020-09-03T03:28:41.481845Z",
     "iopub.status.idle": "2020-09-03T03:28:41.523885Z",
     "shell.execute_reply": "2020-09-03T03:28:41.522649Z",
     "shell.execute_reply.started": "2020-09-03T03:28:41.482310Z"
    }
   },
   "source": [
    "## Styles\n",
    "\n",
    "### What are styles?\n",
    "\n",
    "The graphics we produced thus were using a default rendering style. \n",
    "You can change the style of the charts.\n",
    "\n",
    "To see an exhaustive set of styles, check this reference https://matplotlib.org/3.3.1/gallery/style_sheets/style_sheets_reference.html.\n",
    "\n",
    "### Try out styles\n",
    "\n",
    "Let start by changing the background to black and create a few charts\n",
    "\n",
    "Just so that you can play with the various styles, let's create. a function that we can call below to render a chart with a particular style:"
   ]
  },
  {
   "cell_type": "code",
   "execution_count": null,
   "metadata": {},
   "outputs": [],
   "source": [
    "def create_chart():\n",
    "    data = np.random.randint(1,100,100)\n",
    "    f, x = plt.subplots()\n",
    "    x.plot(data)\n",
    "    f\n",
    "def get_chart_with_style(style):\n",
    "    plt.style.use(style)\n",
    "    f = create_chart()\n",
    "    plt.style.use('default')\n",
    "    f"
   ]
  },
  {
   "cell_type": "markdown",
   "metadata": {},
   "source": [
    "Currently, we use a style called default. \n",
    "Let's just run the function with the default style first."
   ]
  },
  {
   "cell_type": "code",
   "execution_count": null,
   "metadata": {},
   "outputs": [],
   "source": [
    "get_chart_with_style('default')"
   ]
  },
  {
   "cell_type": "markdown",
   "metadata": {},
   "source": [
    "Let's try another style"
   ]
  },
  {
   "cell_type": "code",
   "execution_count": null,
   "metadata": {},
   "outputs": [],
   "source": [
    "get_chart_with_style('Solarize_Light2')"
   ]
  },
  {
   "cell_type": "markdown",
   "metadata": {
    "execution": {
     "iopub.execute_input": "2020-09-03T03:33:44.163736Z",
     "iopub.status.busy": "2020-09-03T03:33:44.163215Z",
     "iopub.status.idle": "2020-09-03T03:33:44.210133Z",
     "shell.execute_reply": "2020-09-03T03:33:44.209173Z",
     "shell.execute_reply.started": "2020-09-03T03:33:44.163670Z"
    }
   },
   "source": [
    "That looks quite different.\n",
    "Let's try another style:"
   ]
  },
  {
   "cell_type": "code",
   "execution_count": null,
   "metadata": {},
   "outputs": [],
   "source": [
    "get_chart_with_style('grayscale')"
   ]
  },
  {
   "cell_type": "markdown",
   "metadata": {},
   "source": [
    "Yet another:"
   ]
  },
  {
   "cell_type": "code",
   "execution_count": null,
   "metadata": {},
   "outputs": [],
   "source": [
    "get_chart_with_style('ggplot')"
   ]
  },
  {
   "cell_type": "markdown",
   "metadata": {},
   "source": [
    "Feel free to try out the other styles supported by `matplotlib`.\n",
    "\n",
    "You can find the available styles by running the cell below:"
   ]
  },
  {
   "cell_type": "code",
   "execution_count": null,
   "metadata": {},
   "outputs": [],
   "source": [
    "plt.style.available"
   ]
  },
  {
   "cell_type": "markdown",
   "metadata": {
    "execution": {
     "iopub.execute_input": "2020-09-03T04:00:42.390571Z",
     "iopub.status.busy": "2020-09-03T04:00:42.390055Z",
     "iopub.status.idle": "2020-09-03T04:00:42.820037Z",
     "shell.execute_reply": "2020-09-03T04:00:42.819226Z",
     "shell.execute_reply.started": "2020-09-03T04:00:42.390509Z"
    }
   },
   "source": [
    "## A Few More Charts (in Rapid Fire Mode)\n",
    "\n",
    "Let's try out a few more charts that are supported directly from the `pandas`."
   ]
  },
  {
   "cell_type": "markdown",
   "metadata": {
    "execution": {
     "iopub.execute_input": "2020-09-03T04:00:42.390571Z",
     "iopub.status.busy": "2020-09-03T04:00:42.390055Z",
     "iopub.status.idle": "2020-09-03T04:00:42.820037Z",
     "shell.execute_reply": "2020-09-03T04:00:42.819226Z",
     "shell.execute_reply.started": "2020-09-03T04:00:42.390509Z"
    }
   },
   "source": [
    "### Area Plot"
   ]
  },
  {
   "cell_type": "code",
   "execution_count": null,
   "metadata": {},
   "outputs": [],
   "source": [
    "area = profit_by_region.plot.area()\n",
    "area.legend()"
   ]
  },
  {
   "cell_type": "markdown",
   "metadata": {},
   "source": [
    "### Horizontal Bar Chart"
   ]
  },
  {
   "cell_type": "code",
   "execution_count": null,
   "metadata": {},
   "outputs": [],
   "source": [
    "profit_by_region.plot.barh()"
   ]
  },
  {
   "cell_type": "markdown",
   "metadata": {
    "execution": {
     "iopub.execute_input": "2020-09-03T04:18:50.491107Z",
     "iopub.status.busy": "2020-09-03T04:18:50.490557Z",
     "iopub.status.idle": "2020-09-03T04:18:50.533773Z",
     "shell.execute_reply": "2020-09-03T04:18:50.532244Z",
     "shell.execute_reply.started": "2020-09-03T04:18:50.491031Z"
    }
   },
   "source": [
    "### Hexbin\n",
    "\n",
    "We don't have a good data set for this, so I (shamelessly) copied some code from the `matplotlib` documentation (see: https://matplotlib.org/gallery/statistics/hexbin_demo.html#sphx-glr-gallery-statistics-hexbin-demo-py):"
   ]
  },
  {
   "cell_type": "code",
   "execution_count": null,
   "metadata": {},
   "outputs": [],
   "source": [
    "# Fixing random state for reproducibility\n",
    "np.random.seed(19680801)\n",
    "\n",
    "n = 100000\n",
    "x = np.random.standard_normal(n)\n",
    "y = 2.0 + 3.0 * x + 4.0 * np.random.standard_normal(n)\n",
    "xmin = x.min()\n",
    "xmax = x.max()\n",
    "ymin = y.min()\n",
    "ymax = y.max()\n",
    "\n",
    "fig, axs = plt.subplots(ncols=2, sharey=True, figsize=(7, 4))\n",
    "fig.subplots_adjust(hspace=0.5, left=0.07, right=0.93)\n",
    "ax = axs[0]\n",
    "hb = ax.hexbin(x, y, gridsize=50, cmap='inferno')\n",
    "ax.set(xlim=(xmin, xmax), ylim=(ymin, ymax))\n",
    "ax.set_title(\"Hexagon binning\")\n",
    "cb = fig.colorbar(hb, ax=ax)\n",
    "cb.set_label('counts')\n",
    "\n",
    "ax = axs[1]\n",
    "hb = ax.hexbin(x, y, gridsize=50, bins='log', cmap='inferno')\n",
    "ax.set(xlim=(xmin, xmax), ylim=(ymin, ymax))\n",
    "ax.set_title(\"With a log color scale\")\n",
    "cb = fig.colorbar(hb, ax=ax)\n",
    "cb.set_label('log10(N)')\n",
    "\n",
    "plt.show()\n"
   ]
  },
  {
   "cell_type": "markdown",
   "metadata": {},
   "source": [
    "## Histogram\n",
    "\n",
    "Let's use a slightly different dataset for this to make it interesting. \n",
    "Let's look back at the sales transactions and see how the UnitPrice distributes."
   ]
  },
  {
   "cell_type": "code",
   "execution_count": null,
   "metadata": {},
   "outputs": [],
   "source": [
    "it = sales[[\"Unit Cost\"]].plot.hist()\n"
   ]
  },
  {
   "cell_type": "markdown",
   "metadata": {},
   "source": [
    "### Density plot\n",
    "\n",
    "Related to histograms. For a deeper discussion see this article: https://jakevdp.github.io/PythonDataScienceHandbook/05.13-kernel-density-estimation.html"
   ]
  },
  {
   "cell_type": "code",
   "execution_count": null,
   "metadata": {},
   "outputs": [],
   "source": [
    "profit_by_region.plot.density()"
   ]
  },
  {
   "cell_type": "markdown",
   "metadata": {},
   "source": [
    "### Kernel Density Estimation (KDE) Diagram\n",
    "\n",
    "KDE is a non-parametric way to estimate a random variable's probability density function (see Wikipedia for more details https://en.wikipedia.org/wiki/Kernel_density_estimation).\n",
    "\n",
    "They are closely related to histograms but can be endowed with smoothness or continuity parameters.\n",
    "\n",
    "Let's look at UnitCost again and plot it in a KDE diagram."
   ]
  },
  {
   "cell_type": "code",
   "execution_count": null,
   "metadata": {},
   "outputs": [],
   "source": [
    "it = sales[[\"Unit Cost\"]].plot.kde()"
   ]
  },
  {
   "cell_type": "markdown",
   "metadata": {},
   "source": [
    "### Line Chart"
   ]
  },
  {
   "cell_type": "code",
   "execution_count": null,
   "metadata": {},
   "outputs": [],
   "source": [
    "profit_by_region.plot.line()"
   ]
  },
  {
   "cell_type": "markdown",
   "metadata": {
    "execution": {
     "iopub.execute_input": "2020-09-03T04:41:47.416006Z",
     "iopub.status.busy": "2020-09-03T04:41:47.415498Z",
     "iopub.status.idle": "2020-09-03T04:41:47.814347Z",
     "shell.execute_reply": "2020-09-03T04:41:47.761423Z",
     "shell.execute_reply.started": "2020-09-03T04:41:47.415947Z"
    }
   },
   "source": [
    "### Scatter Chart"
   ]
  },
  {
   "cell_type": "code",
   "execution_count": null,
   "metadata": {},
   "outputs": [],
   "source": [
    "d = sales[[\"Unit Price\", \"Unit Cost\"]].plot.scatter(x=\"Unit Price\", y=\"Unit Cost\")"
   ]
  }
 ],
 "metadata": {
  "kernelspec": {
   "display_name": "Python 3 (ipykernel)",
   "language": "python",
   "name": "python3"
  },
  "language_info": {
   "codemirror_mode": {
    "name": "ipython",
    "version": 3
   },
   "file_extension": ".py",
   "mimetype": "text/x-python",
   "name": "python",
   "nbconvert_exporter": "python",
   "pygments_lexer": "ipython3",
   "version": "3.10.8"
  }
 },
 "nbformat": 4,
 "nbformat_minor": 4
}
